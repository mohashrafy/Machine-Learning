{
 "cells": [
  {
   "cell_type": "markdown",
   "metadata": {},
   "source": [
    "<img src=\"./images/banner.png\" width=\"800\">"
   ]
  },
  {
   "cell_type": "markdown",
   "metadata": {},
   "source": [
    "# Common Discrete Probability Distributions"
   ]
  },
  {
   "cell_type": "markdown",
   "metadata": {},
   "source": [
    "In probability theory and statistics, a **discrete probability distribution** is a probability distribution that describes the likelihood of obtaining each possible value from a discrete random variable. A discrete random variable takes on distinct, countable values, such as integers or specific categories. In contrast, a continuous random variable can take on any value within a specified range.\n"
   ]
  },
  {
   "cell_type": "markdown",
   "metadata": {},
   "source": [
    "Discrete probability distributions are characterized by their **probability mass function (PMF)**, which assigns a probability to each possible value of the random variable. The PMF, denoted as $P(X = x)$, gives the probability that the random variable $X$ takes on a specific value $x$. The sum of probabilities for all possible values of a discrete random variable is always equal to 1.\n"
   ]
  },
  {
   "cell_type": "markdown",
   "metadata": {},
   "source": [
    "Understanding discrete probability distributions is crucial in machine learning for several reasons:\n",
    "\n",
    "1. **Modeling categorical variables**: Discrete probability distributions are often used to model categorical variables, such as binary outcomes (e.g., yes/no, true/false) or multi-class classifications (e.g., red/green/blue). By understanding the properties of these distributions, we can better represent and analyze categorical data in machine learning tasks.\n",
    "\n",
    "2. **Feature engineering**: Discrete probability distributions can be used to create new features or transform existing features in a dataset. For example, we can use the Binomial distribution to model the number of successes in a fixed number of trials, which can be a useful feature in certain machine learning problems.\n",
    "\n",
    "3. **Bayesian inference**: Discrete probability distributions play a key role in Bayesian inference, where prior and posterior distributions are often modeled using discrete distributions. Understanding these distributions is essential for applying Bayesian methods in machine learning.\n",
    "\n",
    "4. **Generative models**: Some machine learning algorithms, such as Naive Bayes classifiers and hidden Markov models, rely on discrete probability distributions to model the joint probability distribution of variables. Familiarity with these distributions is necessary to understand and implement such generative models.\n"
   ]
  },
  {
   "cell_type": "markdown",
   "metadata": {},
   "source": [
    "In the following sections, we will explore some of the most common discrete probability distributions used in machine learning, including the Bernoulli, Binomial, Multinomial, and Poisson distributions. We will discuss their properties, probability mass functions, and provide examples of their applications in machine learning."
   ]
  },
  {
   "cell_type": "markdown",
   "metadata": {},
   "source": [
    "**Table of contents**<a id='toc0_'></a>    \n",
    "- [Bernoulli Distribution](#toc1_)    \n",
    "  - [Definition and properties](#toc1_1_)    \n",
    "  - [Probability Mass Function (PMF)](#toc1_2_)    \n",
    "  - [Examples and applications](#toc1_3_)    \n",
    "- [Binomial Distribution](#toc2_)    \n",
    "  - [Definition and properties](#toc2_1_)    \n",
    "  - [Probability Mass Function (PMF)](#toc2_2_)    \n",
    "  - [Relationship with Bernoulli distribution](#toc2_3_)    \n",
    "  - [Examples and applications](#toc2_4_)    \n",
    "- [Multinomial Distribution](#toc3_)    \n",
    "  - [Definition and properties](#toc3_1_)    \n",
    "  - [Probability Mass Function (PMF)](#toc3_2_)    \n",
    "  - [Relationship with Binomial distribution](#toc3_3_)    \n",
    "  - [Examples and applications](#toc3_4_)    \n",
    "- [Poisson Distribution](#toc4_)    \n",
    "  - [Definition and properties](#toc4_1_)    \n",
    "  - [Probability Mass Function (PMF)](#toc4_2_)    \n",
    "  - [Relationship with Binomial distribution](#toc4_3_)    \n",
    "  - [Examples and applications](#toc4_4_)    \n",
    "- [Summary](#toc5_)    \n",
    "  - [Recap of key points](#toc5_1_)    \n",
    "  - [Importance of understanding discrete probability distributions in machine learning](#toc5_2_)    \n",
    "  - [Resources for further studies](#toc5_3_)    \n",
    "\n",
    "<!-- vscode-jupyter-toc-config\n",
    "\tnumbering=false\n",
    "\tanchor=true\n",
    "\tflat=false\n",
    "\tminLevel=2\n",
    "\tmaxLevel=6\n",
    "\t/vscode-jupyter-toc-config -->\n",
    "<!-- THIS CELL WILL BE REPLACED ON TOC UPDATE. DO NOT WRITE YOUR TEXT IN THIS CELL -->"
   ]
  },
  {
   "cell_type": "markdown",
   "metadata": {},
   "source": [
    "## <a id='toc1_'></a>[Bernoulli Distribution](#toc0_)"
   ]
  },
  {
   "cell_type": "markdown",
   "metadata": {},
   "source": [
    "The Bernoulli distribution is a discrete probability distribution that models a single trial of a binary experiment, where the outcome can be either success (usually denoted as 1) or failure (usually denoted as 0). It is named after the Swiss mathematician Jacob Bernoulli.\n"
   ]
  },
  {
   "cell_type": "markdown",
   "metadata": {},
   "source": [
    "### <a id='toc1_1_'></a>[Definition and properties](#toc0_)\n"
   ]
  },
  {
   "cell_type": "markdown",
   "metadata": {},
   "source": [
    "A random variable $X$ follows a Bernoulli distribution with parameter $p$ if:\n",
    "\n",
    "- $X$ can take on only two possible values: 1 (success) or 0 (failure).\n",
    "- The probability of success, denoted as $p$, is constant for each trial.\n",
    "- The trials are independent of each other.\n"
   ]
  },
  {
   "cell_type": "markdown",
   "metadata": {},
   "source": [
    "The parameter $p$ represents the probability of success and satisfies $0 \\leq p \\leq 1$.\n"
   ]
  },
  {
   "cell_type": "markdown",
   "metadata": {},
   "source": [
    "### <a id='toc1_2_'></a>[Probability Mass Function (PMF)](#toc0_)\n"
   ]
  },
  {
   "cell_type": "markdown",
   "metadata": {},
   "source": [
    "The probability mass function (PMF) of a Bernoulli random variable $X$ with parameter $p$ is given by:\n",
    "\n",
    "$P(X = x) = \\begin{cases}\n",
    "p & \\text{if } x = 1 \\\\\n",
    "1 - p & \\text{if } x = 0 \\\\\n",
    "0 & \\text{otherwise}\n",
    "\\end{cases}$\n"
   ]
  },
  {
   "cell_type": "markdown",
   "metadata": {},
   "source": [
    "In other words, the probability of success ($x = 1$) is $p$, and the probability of failure ($x = 0$) is $1 - p$.\n"
   ]
  },
  {
   "cell_type": "markdown",
   "metadata": {},
   "source": [
    "The expected value (mean) of a Bernoulli random variable $X$ is:\n",
    "\n",
    "$E(X) = p$\n"
   ]
  },
  {
   "cell_type": "markdown",
   "metadata": {},
   "source": [
    "The variance of a Bernoulli random variable $X$ is:\n",
    "\n",
    "$Var(X) = p(1 - p)$\n"
   ]
  },
  {
   "cell_type": "markdown",
   "metadata": {},
   "source": [
    "### <a id='toc1_3_'></a>[Examples and applications](#toc0_)\n"
   ]
  },
  {
   "cell_type": "markdown",
   "metadata": {},
   "source": [
    "1. **Coin toss**: A single coin toss can be modeled using a Bernoulli distribution, where success (heads) has a probability of $p = 0.5$ and failure (tails) has a probability of $1 - p = 0.5$.\n",
    "\n",
    "2. **Binary classification**: In binary classification problems, the target variable can be modeled using a Bernoulli distribution, where the two possible outcomes are the two classes (e.g., spam/not spam, positive/negative sentiment).\n",
    "\n",
    "3. **Click-through rate**: In online advertising, the click-through rate (CTR) can be modeled using a Bernoulli distribution, where success represents a user clicking on an ad and failure represents a user not clicking on the ad.\n"
   ]
  },
  {
   "cell_type": "markdown",
   "metadata": {},
   "source": [
    "Here's a simple example of how to create a Bernoulli random variable in Python using the NumPy library:\n"
   ]
  },
  {
   "cell_type": "code",
   "execution_count": 9,
   "metadata": {},
   "outputs": [],
   "source": [
    "import numpy as np\n",
    "\n",
    "# Set the probability of success (p)\n",
    "p = 0.7\n",
    "\n",
    "# Generate 1000 random numbers from a binomial distribution\n",
    "# with 10 trials and probability of success p\n",
    "data = np.random.binomial(1, p, 100)"
   ]
  },
  {
   "cell_type": "code",
   "execution_count": 10,
   "metadata": {},
   "outputs": [
    {
     "data": {
      "text/plain": [
       "array([1, 1, 0, 1, 1, 0, 0, 0, 1, 0, 1, 1, 1, 1, 0, 1, 0, 0, 1, 0, 1, 1,\n",
       "       1, 1, 1, 1, 1, 1, 0, 1, 1, 1, 0, 1, 1, 0, 0, 1, 1, 1, 1, 1, 1, 1,\n",
       "       1, 0, 1, 1, 0, 0, 1, 0, 1, 0, 0, 1, 1, 0, 0, 1, 1, 1, 1, 1, 1, 1,\n",
       "       0, 1, 1, 1, 1, 1, 1, 0, 1, 1, 1, 1, 1, 0, 0, 1, 1, 1, 1, 1, 0, 0,\n",
       "       0, 1, 0, 1, 1, 1, 1, 0, 1, 0, 0, 1])"
      ]
     },
     "execution_count": 10,
     "metadata": {},
     "output_type": "execute_result"
    }
   ],
   "source": [
    "data"
   ]
  },
  {
   "cell_type": "markdown",
   "metadata": {},
   "source": [
    "In this example, we set the probability of success to $p = 0.7$ and generate a 100 samples from the Bernoulli distribution using `np.random.binomial(1, p, 100)`. The output will be either 1 (success) or 0 (failure) based on the specified probability."
   ]
  },
  {
   "cell_type": "markdown",
   "metadata": {},
   "source": [
    "## <a id='toc2_'></a>[Binomial Distribution](#toc0_)"
   ]
  },
  {
   "cell_type": "markdown",
   "metadata": {},
   "source": [
    "The Binomial distribution is a discrete probability distribution that models the number of successes in a fixed number of independent Bernoulli trials. It is a generalization of the Bernoulli distribution for multiple trials.\n"
   ]
  },
  {
   "cell_type": "markdown",
   "metadata": {},
   "source": [
    "### <a id='toc2_1_'></a>[Definition and properties](#toc0_)\n"
   ]
  },
  {
   "cell_type": "markdown",
   "metadata": {},
   "source": [
    "A random variable $X$ follows a Binomial distribution with parameters $n$ and $p$ if:\n",
    "\n",
    "- The experiment consists of $n$ independent trials.\n",
    "- Each trial has only two possible outcomes: success or failure.\n",
    "- The probability of success, denoted as $p$, is constant for each trial.\n",
    "- $X$ represents the total number of successes in the $n$ trials.\n"
   ]
  },
  {
   "cell_type": "markdown",
   "metadata": {},
   "source": [
    "The parameters $n$ and $p$ satisfy the following conditions:\n",
    "\n",
    "- $n$ is a positive integer representing the number of trials.\n",
    "- $p$ is the probability of success in each trial, where $0 \\leq p \\leq 1$.\n"
   ]
  },
  {
   "cell_type": "markdown",
   "metadata": {},
   "source": [
    "### <a id='toc2_2_'></a>[Probability Mass Function (PMF)](#toc0_)\n"
   ]
  },
  {
   "cell_type": "markdown",
   "metadata": {},
   "source": [
    "The probability mass function (PMF) of a Binomial random variable $X$ with parameters $n$ and $p$ is given by:\n",
    "\n",
    "$P(X = k) = \\binom{n}{k} p^k (1-p)^{n-k}$\n"
   ]
  },
  {
   "cell_type": "markdown",
   "metadata": {},
   "source": [
    "where $k$ is the number of successes, and $\\binom{n}{k}$ is the binomial coefficient, which represents the number of ways to choose $k$ successes from $n$ trials. The binomial coefficient is calculated as:\n",
    "\n",
    "$\\binom{n}{k} = \\frac{n!}{k!(n-k)!}$\n"
   ]
  },
  {
   "cell_type": "markdown",
   "metadata": {},
   "source": [
    "The expected value (mean) of a Binomial random variable $X$ is:\n",
    "\n",
    "$E(X) = np$\n"
   ]
  },
  {
   "cell_type": "markdown",
   "metadata": {},
   "source": [
    "The variance of a Binomial random variable $X$ is:\n",
    "\n",
    "$Var(X) = np(1-p)$\n"
   ]
  },
  {
   "cell_type": "markdown",
   "metadata": {},
   "source": [
    "### <a id='toc2_3_'></a>[Relationship with Bernoulli distribution](#toc0_)\n"
   ]
  },
  {
   "cell_type": "markdown",
   "metadata": {},
   "source": [
    "The Binomial distribution is closely related to the Bernoulli distribution. In fact, the Binomial distribution is the sum of $n$ independent and identically distributed (i.i.d.) Bernoulli random variables, each with probability of success $p$.\n"
   ]
  },
  {
   "cell_type": "markdown",
   "metadata": {},
   "source": [
    "If $X_1, X_2, \\ldots, X_n$ are i.i.d. Bernoulli random variables with probability of success $p$, then their sum $Y = X_1 + X_2 + \\ldots + X_n$ follows a Binomial distribution with parameters $n$ and $p$.\n"
   ]
  },
  {
   "cell_type": "markdown",
   "metadata": {},
   "source": [
    "### <a id='toc2_4_'></a>[Examples and applications](#toc0_)\n"
   ]
  },
  {
   "cell_type": "markdown",
   "metadata": {},
   "source": [
    "1. **Coin tosses**: The number of heads in a fixed number of coin tosses can be modeled using a Binomial distribution, where the probability of success (heads) is $p = 0.5$ for a fair coin.\n",
    "\n",
    "2. **Quality control**: In manufacturing, the Binomial distribution can be used to model the number of defective items in a fixed sample size, where the probability of a defective item is constant.\n",
    "\n",
    "3. **A/B testing**: In online experiments, such as A/B testing, the Binomial distribution can be used to model the number of users who convert (e.g., click on a button, make a purchase) in a fixed sample size, given a certain conversion rate.\n"
   ]
  },
  {
   "cell_type": "markdown",
   "metadata": {},
   "source": [
    "Here's an example of how to calculate the probability of a specific number of successes using the Binomial PMF in Python:\n"
   ]
  },
  {
   "cell_type": "code",
   "execution_count": 13,
   "metadata": {},
   "outputs": [
    {
     "name": "stdout",
     "output_type": "stream",
     "text": [
      "Probability of 6 successes in 10 trials with p = 0.4: 0.1115\n"
     ]
    }
   ],
   "source": [
    "from scipy.stats import binom\n",
    "\n",
    "# Set the parameters\n",
    "n = 10  # Number of trials\n",
    "p = 0.4  # Probability of success\n",
    "k = 6  # Number of successes\n",
    "\n",
    "# Calculate the probability of k successes\n",
    "probability = binom.pmf(k, n, p)\n",
    "\n",
    "print(f\"Probability of {k} successes in {n} trials with p = {p}: {probability:.4f}\")"
   ]
  },
  {
   "cell_type": "markdown",
   "metadata": {},
   "source": [
    "In this example, we use the `binom.pmf()` function from the SciPy library to calculate the probability of observing 6 successes in 10 trials, given a probability of success of 0.4 for each trial."
   ]
  },
  {
   "cell_type": "markdown",
   "metadata": {},
   "source": [
    "## <a id='toc3_'></a>[Multinomial Distribution](#toc0_)"
   ]
  },
  {
   "cell_type": "markdown",
   "metadata": {},
   "source": [
    "The Multinomial distribution is a generalization of the Binomial distribution for the case where each trial has more than two possible outcomes. It models the probability of observing a specific number of occurrences of each outcome in a fixed number of independent trials.\n"
   ]
  },
  {
   "cell_type": "markdown",
   "metadata": {},
   "source": [
    "### <a id='toc3_1_'></a>[Definition and properties](#toc0_)\n"
   ]
  },
  {
   "cell_type": "markdown",
   "metadata": {},
   "source": [
    "A random variable $X = (X_1, X_2, \\ldots, X_k)$ follows a Multinomial distribution with parameters $n$ and $p = (p_1, p_2, \\ldots, p_k)$ if:\n",
    "\n",
    "- The experiment consists of $n$ independent trials.\n",
    "- Each trial has $k$ possible outcomes, where $k \\geq 2$.\n",
    "- The probabilities of the outcomes are constant across trials and are given by $p_1, p_2, \\ldots, p_k$, where $\\sum_{i=1}^k p_i = 1$.\n",
    "- $X_i$ represents the number of occurrences of the $i$-th outcome in the $n$ trials, where $\\sum_{i=1}^k X_i = n$.\n"
   ]
  },
  {
   "cell_type": "markdown",
   "metadata": {},
   "source": [
    "The parameters $n$, $k$, and $p$ satisfy the following conditions:\n",
    "\n",
    "- $n$ is a positive integer representing the number of trials.\n",
    "- $k$ is a positive integer representing the number of possible outcomes.\n",
    "- $p_i$ is the probability of the $i$-th outcome in each trial, where $0 \\leq p_i \\leq 1$ and $\\sum_{i=1}^k p_i = 1$.\n"
   ]
  },
  {
   "cell_type": "markdown",
   "metadata": {},
   "source": [
    "### <a id='toc3_2_'></a>[Probability Mass Function (PMF)](#toc0_)\n"
   ]
  },
  {
   "cell_type": "markdown",
   "metadata": {},
   "source": [
    "The probability mass function (PMF) of a Multinomial random variable $X = (X_1, X_2, \\ldots, X_k)$ with parameters $n$ and $p = (p_1, p_2, \\ldots, p_k)$ is given by:\n",
    "\n",
    "$P(X_1 = x_1, X_2 = x_2, \\ldots, X_k = x_k) = \\frac{n!}{x_1! x_2! \\ldots x_k!} p_1^{x_1} p_2^{x_2} \\ldots p_k^{x_k}$\n",
    "\n",
    "where $x_1, x_2, \\ldots, x_k$ are non-negative integers satisfying $\\sum_{i=1}^k x_i = n$.\n"
   ]
  },
  {
   "cell_type": "markdown",
   "metadata": {},
   "source": [
    "The expected value (mean) of $X_i$ is:\n",
    "\n",
    "$E(X_i) = np_i$\n"
   ]
  },
  {
   "cell_type": "markdown",
   "metadata": {},
   "source": [
    "The variance of $X_i$ is:\n",
    "\n",
    "$Var(X_i) = np_i(1-p_i)$\n"
   ]
  },
  {
   "cell_type": "markdown",
   "metadata": {},
   "source": [
    "The covariance between $X_i$ and $X_j$ (for $i \\neq j$) is:\n",
    "\n",
    "$Cov(X_i, X_j) = -np_ip_j$\n"
   ]
  },
  {
   "cell_type": "markdown",
   "metadata": {},
   "source": [
    "### <a id='toc3_3_'></a>[Relationship with Binomial distribution](#toc0_)\n"
   ]
  },
  {
   "cell_type": "markdown",
   "metadata": {},
   "source": [
    "The Multinomial distribution is a generalization of the Binomial distribution. When $k = 2$, the Multinomial distribution reduces to the Binomial distribution, with parameters $n$ and $p_1$ (the probability of success), while $p_2 = 1 - p_1$ (the probability of failure).\n"
   ]
  },
  {
   "cell_type": "markdown",
   "metadata": {},
   "source": [
    "### <a id='toc3_4_'></a>[Examples and applications](#toc0_)\n"
   ]
  },
  {
   "cell_type": "markdown",
   "metadata": {},
   "source": [
    "1. **Rolling a dice**: The outcomes of rolling a fair six-sided dice $n$ times can be modeled using a Multinomial distribution with parameters $n$ and $p = (\\frac{1}{6}, \\frac{1}{6}, \\ldots, \\frac{1}{6})$.\n",
    "\n",
    "2. **Market segmentation**: In marketing, the Multinomial distribution can be used to model the distribution of customers across different segments based on their preferences or characteristics.\n",
    "\n",
    "3. **Text classification**: In natural language processing, the Multinomial distribution is often used to model the distribution of words in a document for tasks like text classification or topic modeling.\n"
   ]
  },
  {
   "cell_type": "markdown",
   "metadata": {},
   "source": [
    "Here's an example of how to generate a random sample from a Multinomial distribution in Python using the NumPy library:\n"
   ]
  },
  {
   "cell_type": "code",
   "execution_count": 34,
   "metadata": {},
   "outputs": [
    {
     "name": "stdout",
     "output_type": "stream",
     "text": [
      "Sample from Multinomial distribution with n = 10 and p = [0.2, 0.3, 0.5]:\n",
      "[1 2 7]\n"
     ]
    }
   ],
   "source": [
    "import numpy as np\n",
    "\n",
    "# Set the parameters\n",
    "n = 10  # Number of trials\n",
    "p = [0.2, 0.3, 0.5]  # Probabilities of each outcome\n",
    "\n",
    "# Generate a random sample from the Multinomial distribution\n",
    "sample = np.random.multinomial(n, p)\n",
    "\n",
    "print(f\"Sample from Multinomial distribution with n = {n} and p = {p}:\")\n",
    "print(sample)"
   ]
  },
  {
   "cell_type": "markdown",
   "metadata": {},
   "source": [
    "In this example, we set the number of trials to $n = 10$ and the probabilities of each outcome to $p = [0.2, 0.3, 0.5]$. We then use `np.random.multinomial(n, p)` to generate a random sample from the Multinomial distribution. The output represents the number of occurrences of each outcome in the 10 trials."
   ]
  },
  {
   "cell_type": "markdown",
   "metadata": {},
   "source": [
    "## <a id='toc4_'></a>[Poisson Distribution](#toc0_)"
   ]
  },
  {
   "cell_type": "markdown",
   "metadata": {},
   "source": [
    "The Poisson distribution is a discrete probability distribution that models the number of events occurring in a fixed interval of time or space, given a constant average rate of occurrence. It is named after the French mathematician Siméon Denis Poisson.\n"
   ]
  },
  {
   "cell_type": "markdown",
   "metadata": {},
   "source": [
    "### <a id='toc4_1_'></a>[Definition and properties](#toc0_)\n"
   ]
  },
  {
   "cell_type": "markdown",
   "metadata": {},
   "source": [
    "A random variable $X$ follows a Poisson distribution with parameter $\\lambda$ if:\n",
    "\n",
    "- $X$ represents the number of events occurring in a fixed interval.\n",
    "- The events occur independently of each other.\n",
    "- The average rate of occurrence, denoted as $\\lambda$, is constant over the interval.\n"
   ]
  },
  {
   "cell_type": "markdown",
   "metadata": {},
   "source": [
    "The parameter $\\lambda$ represents the average number of events per interval and satisfies $\\lambda > 0$.\n"
   ]
  },
  {
   "cell_type": "markdown",
   "metadata": {},
   "source": [
    "### <a id='toc4_2_'></a>[Probability Mass Function (PMF)](#toc0_)\n"
   ]
  },
  {
   "cell_type": "markdown",
   "metadata": {},
   "source": [
    "The probability mass function (PMF) of a Poisson random variable $X$ with parameter $\\lambda$ is given by:\n",
    "\n",
    "$P(X = k) = \\frac{e^{-\\lambda}\\lambda^k}{k!}$\n",
    "\n",
    "where $k$ is a non-negative integer representing the number of events.\n"
   ]
  },
  {
   "cell_type": "markdown",
   "metadata": {},
   "source": [
    "The expected value (mean) of a Poisson random variable $X$ is:\n",
    "\n",
    "$E(X) = \\lambda$\n"
   ]
  },
  {
   "cell_type": "markdown",
   "metadata": {},
   "source": [
    "The variance of a Poisson random variable $X$ is:\n",
    "\n",
    "$Var(X) = \\lambda$\n"
   ]
  },
  {
   "cell_type": "markdown",
   "metadata": {},
   "source": [
    "An interesting property of the Poisson distribution is that its mean and variance are both equal to $\\lambda$.\n"
   ]
  },
  {
   "cell_type": "markdown",
   "metadata": {},
   "source": [
    "### <a id='toc4_3_'></a>[Relationship with Binomial distribution](#toc0_)\n"
   ]
  },
  {
   "cell_type": "markdown",
   "metadata": {},
   "source": [
    "The Poisson distribution can be used as an approximation to the Binomial distribution when the number of trials $n$ is large and the probability of success $p$ is small, such that $\\lambda = np$ remains constant. As $n \\to \\infty$ and $p \\to 0$, while keeping $\\lambda = np$ fixed, the Binomial distribution converges to the Poisson distribution with parameter $\\lambda$.\n"
   ]
  },
  {
   "cell_type": "markdown",
   "metadata": {},
   "source": [
    "### <a id='toc4_4_'></a>[Examples and applications](#toc0_)\n"
   ]
  },
  {
   "cell_type": "markdown",
   "metadata": {},
   "source": [
    "1. **Call center**: The number of phone calls arriving at a call center per hour can be modeled using a Poisson distribution, where $\\lambda$ represents the average number of calls per hour.\n",
    "\n",
    "2. **Website traffic**: The number of visitors to a website during a fixed time interval can be modeled using a Poisson distribution, with $\\lambda$ representing the average number of visitors per interval.\n",
    "\n",
    "3. **Radioactive decay**: The number of radioactive particles decaying in a fixed time interval follows a Poisson distribution, where $\\lambda$ is the average number of decays per interval.\n"
   ]
  },
  {
   "cell_type": "markdown",
   "metadata": {},
   "source": [
    "Here's an example of how to calculate the probability of a specific number of events using the Poisson PMF in Python:"
   ]
  },
  {
   "cell_type": "code",
   "execution_count": 35,
   "metadata": {},
   "outputs": [
    {
     "name": "stdout",
     "output_type": "stream",
     "text": [
      "Probability of 2 events with λ = 3.5: 0.1850\n"
     ]
    }
   ],
   "source": [
    "from scipy.stats import poisson\n",
    "\n",
    "# Set the parameter\n",
    "lam = 3.5  # Average number of events per interval\n",
    "k = 2  # Number of events\n",
    "\n",
    "# Calculate the probability of k events\n",
    "probability = poisson.pmf(k, lam)\n",
    "\n",
    "print(f\"Probability of {k} events with λ = {lam}: {probability:.4f}\")"
   ]
  },
  {
   "cell_type": "markdown",
   "metadata": {},
   "source": [
    "In this example, we use the `poisson.pmf()` function from the SciPy library to calculate the probability of observing 2 events in an interval, given an average rate of 3.5 events per interval."
   ]
  },
  {
   "cell_type": "markdown",
   "metadata": {},
   "source": [
    "## <a id='toc5_'></a>[Summary](#toc0_)"
   ]
  },
  {
   "cell_type": "markdown",
   "metadata": {},
   "source": [
    "In this lecture, we discussed four common discrete probability distributions: Bernoulli, Binomial, Multinomial, and Poisson. These distributions are essential for modeling various types of discrete random variables and understanding their properties.\n"
   ]
  },
  {
   "cell_type": "markdown",
   "metadata": {},
   "source": [
    "### <a id='toc5_1_'></a>[Recap of key points](#toc0_)\n"
   ]
  },
  {
   "cell_type": "markdown",
   "metadata": {},
   "source": [
    "1. The **Bernoulli distribution** models a single trial of a binary experiment, with a probability of success $p$. Its mean is $p$, and its variance is $p(1-p)$.\n",
    "\n",
    "2. The **Binomial distribution** models the number of successes in a fixed number of independent Bernoulli trials, with parameters $n$ (number of trials) and $p$ (probability of success). Its mean is $np$, and its variance is $np(1-p)$.\n",
    "\n",
    "3. The **Multinomial distribution** generalizes the Binomial distribution for the case where each trial has more than two possible outcomes. It models the number of occurrences of each outcome in a fixed number of trials, with parameters $n$ (number of trials) and $p$ (probabilities of each outcome).\n",
    "\n",
    "4. The **Poisson distribution** models the number of events occurring in a fixed interval, given a constant average rate of occurrence $\\lambda$. Its mean and variance are both equal to $\\lambda$. The Poisson distribution can be used as an approximation to the Binomial distribution when $n$ is large and $p$ is small, such that $\\lambda = np$ remains constant.\n"
   ]
  },
  {
   "cell_type": "markdown",
   "metadata": {},
   "source": [
    "### <a id='toc5_2_'></a>[Importance of understanding discrete probability distributions in machine learning](#toc0_)\n"
   ]
  },
  {
   "cell_type": "markdown",
   "metadata": {},
   "source": [
    "Understanding discrete probability distributions is crucial for machine learning practitioners because:\n",
    "\n",
    "1. These distributions are used to model various types of discrete data encountered in machine learning problems, such as binary outcomes, categorical variables, and count data.\n",
    "\n",
    "2. They form the foundation for many machine learning algorithms, such as Naive Bayes classifiers, which rely on the assumption of independence between features and use discrete probability distributions to model the data.\n",
    "\n",
    "3. Discrete probability distributions are essential for understanding and implementing techniques like feature engineering, data augmentation, and probabilistic graphical models.\n",
    "\n",
    "4. Familiarity with these distributions enables practitioners to make informed decisions about model selection, parameter estimation, and inference in machine learning tasks.\n"
   ]
  },
  {
   "cell_type": "markdown",
   "metadata": {},
   "source": [
    "### <a id='toc5_3_'></a>[Resources for further studies](#toc0_)\n"
   ]
  },
  {
   "cell_type": "markdown",
   "metadata": {},
   "source": [
    "To dive deeper into discrete probability distributions and their applications in machine learning, consider exploring the following resources:\n",
    "\n",
    "1. [Probability Distributions (Stanford CS229 Lecture Notes)](https://cs229.stanford.edu/section/cs229-prob.pdf)\n",
    "2. [Probability and Statistics for Computer Scientists (Book)](https://www.routledge.com/Probability-and-Statistics-for-Computer-Scientists/Baron/p/book/9781138044487)\n"
   ]
  },
  {
   "cell_type": "markdown",
   "metadata": {},
   "source": [
    "By understanding the properties and applications of these discrete probability distributions, machine learning practitioners can build a strong foundation in probabilistic modeling and make informed decisions when working with discrete random variables in various machine learning tasks."
   ]
  }
 ],
 "metadata": {
  "kernelspec": {
   "display_name": "py310",
   "language": "python",
   "name": "python3"
  },
  "language_info": {
   "codemirror_mode": {
    "name": "ipython",
    "version": 3
   },
   "file_extension": ".py",
   "mimetype": "text/x-python",
   "name": "python",
   "nbconvert_exporter": "python",
   "pygments_lexer": "ipython3",
   "version": "3.10.12"
  }
 },
 "nbformat": 4,
 "nbformat_minor": 2
}
