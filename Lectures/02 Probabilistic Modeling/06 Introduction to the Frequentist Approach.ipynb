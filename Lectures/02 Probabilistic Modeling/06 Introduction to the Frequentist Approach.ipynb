{
 "cells": [
  {
   "cell_type": "markdown",
   "metadata": {},
   "source": [
    "<img src=\"./images/banner.png\" width=\"800\">"
   ]
  },
  {
   "cell_type": "markdown",
   "metadata": {},
   "source": [
    "# Introduction to the Frequentist Approach"
   ]
  },
  {
   "cell_type": "markdown",
   "metadata": {},
   "source": [
    "The frequentist approach, also known as the classical approach, is a paradigm in statistics and probability theory that defines probability as the long-run frequency of events in repeated trials. It is the dominant approach in traditional statistical inference and has been widely used in various fields, including science, engineering, and economics.\n"
   ]
  },
  {
   "cell_type": "markdown",
   "metadata": {},
   "source": [
    "In the frequentist approach, probability is interpreted as the limiting frequency of an event's occurrence in an infinite series of trials. For example, if we toss a fair coin repeatedly, the probability of getting heads is defined as the proportion of times the coin lands on heads as the number of tosses approaches infinity.\n"
   ]
  },
  {
   "cell_type": "markdown",
   "metadata": {},
   "source": [
    "The frequentist approach relies on the idea that there is a true, fixed value for any population parameter, such as the mean or variance. The goal of frequentist inference is to estimate these parameters using sample data and to quantify the uncertainty associated with these estimates.\n"
   ]
  },
  {
   "cell_type": "markdown",
   "metadata": {},
   "source": [
    "The frequentist interpretation of probability is based on the following key ideas:\n",
    "\n",
    "1. **Probability** is defined as the long-run relative frequency of an event in repeated trials.\n",
    "2. **Probabilities are objective** and based on empirical evidence.\n",
    "3. **Probability statements are meaningful only in the context of repeatable experiments or trials**.\n"
   ]
  },
  {
   "cell_type": "markdown",
   "metadata": {},
   "source": [
    "In the frequentist paradigm, probability is not seen as a measure of an individual's belief or uncertainty, but rather as a property of the system or experiment being studied.\n"
   ]
  },
  {
   "cell_type": "markdown",
   "metadata": {},
   "source": [
    "The frequentist approach emphasizes objective probability, which is based on empirical evidence and the long-run frequency of events. This is in contrast to the subjective probability, which is based on an individual's belief or degree of uncertainty about an event.\n"
   ]
  },
  {
   "cell_type": "markdown",
   "metadata": {},
   "source": [
    "In the frequentist paradigm, probabilities are considered to be objective and independent of the observer. They are determined by the properties of the system or experiment being studied and can be estimated through repeated trials or sampling.\n"
   ]
  },
  {
   "cell_type": "markdown",
   "metadata": {},
   "source": [
    "Subjective probability, on the other hand, is a key concept in the Bayesian approach, where probabilities are interpreted as an individual's degree of belief in an event, which can be updated based on new evidence or information.\n"
   ]
  },
  {
   "cell_type": "markdown",
   "metadata": {},
   "source": [
    "Understanding the frequentist approach and its interpretation of probability is essential for students learning about machine learning and statistical inference. It provides a foundation for understanding concepts such as sampling, estimation, and hypothesis testing, which are crucial in both frequentist and Bayesian approaches to machine learning."
   ]
  },
  {
   "cell_type": "markdown",
   "metadata": {},
   "source": [
    "**Table of contents**<a id='toc0_'></a>    \n",
    "- [Probability and Statistics in the Frequentist Paradigm](#toc1_)    \n",
    "  - [Probability as long-run frequency](#toc1_1_)    \n",
    "  - [Sample and population](#toc1_2_)    \n",
    "  - [Point estimation and parameters](#toc1_3_)    \n",
    "- [Hypothesis Testing](#toc2_)    \n",
    "  - [Null and alternative hypotheses](#toc2_1_)    \n",
    "  - [p-values and significance levels](#toc2_2_)    \n",
    "  - [Simple example of a hypothesis test](#toc2_3_)    \n",
    "- [Limitations of the Frequentist Approach](#toc3_)    \n",
    "  - [Dependence on sampling distributions](#toc3_1_)    \n",
    "  - [Difficulty in incorporating prior knowledge](#toc3_2_)    \n",
    "  - [Interpretation of results](#toc3_3_)    \n",
    "- [Summary](#toc4_)    \n",
    "  - [Recap of key points](#toc4_1_)    \n",
    "  - [Importance of understanding the frequentist approach](#toc4_2_)    \n",
    "  - [Setting the stage for the Bayesian approach](#toc4_3_)    \n",
    "\n",
    "<!-- vscode-jupyter-toc-config\n",
    "\tnumbering=false\n",
    "\tanchor=true\n",
    "\tflat=false\n",
    "\tminLevel=2\n",
    "\tmaxLevel=6\n",
    "\t/vscode-jupyter-toc-config -->\n",
    "<!-- THIS CELL WILL BE REPLACED ON TOC UPDATE. DO NOT WRITE YOUR TEXT IN THIS CELL -->"
   ]
  },
  {
   "cell_type": "markdown",
   "metadata": {},
   "source": [
    "## <a id='toc1_'></a>[Probability and Statistics in the Frequentist Paradigm](#toc0_)"
   ]
  },
  {
   "cell_type": "markdown",
   "metadata": {},
   "source": [
    "In the frequentist paradigm, probability and statistics are closely interconnected. The frequentist approach to probability forms the basis for many statistical methods used in data analysis and inference. Let's explore some key concepts related to probability and statistics in the frequentist paradigm.\n"
   ]
  },
  {
   "cell_type": "markdown",
   "metadata": {},
   "source": [
    "### <a id='toc1_1_'></a>[Probability as long-run frequency](#toc0_)\n"
   ]
  },
  {
   "cell_type": "markdown",
   "metadata": {},
   "source": [
    "As mentioned earlier, the frequentist approach defines probability as the long-run relative frequency of an event in repeated trials. In other words, the probability of an event A is the proportion of times event A occurs in an infinite series of trials or experiments.\n"
   ]
  },
  {
   "cell_type": "markdown",
   "metadata": {},
   "source": [
    "Mathematically, if an event A occurs m times in n trials, the probability of event A is defined as:\n",
    "\n",
    "$P(A) = \\lim_{n \\to \\infty} \\frac{m}{n}$\n"
   ]
  },
  {
   "cell_type": "markdown",
   "metadata": {},
   "source": [
    "This definition of probability is based on the idea that as the number of trials increases, the relative frequency of an event converges to its true probability.\n"
   ]
  },
  {
   "cell_type": "markdown",
   "metadata": {},
   "source": [
    "### <a id='toc1_2_'></a>[Sample and population](#toc0_)\n"
   ]
  },
  {
   "cell_type": "markdown",
   "metadata": {},
   "source": [
    "In the frequentist paradigm, a population refers to the entire group of individuals, objects, or events of interest. A sample, on the other hand, is a subset of the population that is selected for study or analysis.\n"
   ]
  },
  {
   "cell_type": "markdown",
   "metadata": {},
   "source": [
    "The goal of statistical inference in the frequentist approach is to use sample data to draw conclusions about the population. This is done by assuming that the sample is representative of the population and that the observed data is one of many possible outcomes that could have been obtained under the same conditions.\n"
   ]
  },
  {
   "cell_type": "markdown",
   "metadata": {},
   "source": [
    "### <a id='toc1_3_'></a>[Point estimation and parameters](#toc0_)\n"
   ]
  },
  {
   "cell_type": "markdown",
   "metadata": {},
   "source": [
    "In the frequentist paradigm, population parameters are considered to be fixed, unknown quantities that describe the characteristics of the population. Examples of parameters include the population mean, variance, or proportion.\n"
   ]
  },
  {
   "cell_type": "markdown",
   "metadata": {},
   "source": [
    "Point estimation is the process of using sample data to calculate a single value that serves as an estimate of a population parameter. The most common method for point estimation in the frequentist approach is maximum likelihood estimation (MLE).\n"
   ]
  },
  {
   "cell_type": "markdown",
   "metadata": {},
   "source": [
    "MLE seeks to find the parameter values that maximize the likelihood function, which is the probability of observing the sample data given the parameter values. The resulting estimate is called the maximum likelihood estimate.\n"
   ]
  },
  {
   "cell_type": "markdown",
   "metadata": {},
   "source": [
    "For example, suppose we have a sample of n observations from a normal distribution with unknown mean μ and known variance σ^2. The maximum likelihood estimate of the population mean μ is the sample mean:\n",
    "\n",
    "$\\hat{\\mu} = \\frac{1}{n} \\sum_{i=1}^n x_i$\n",
    "\n",
    "where $x_i$ represents the i-th observation in the sample.\n"
   ]
  },
  {
   "cell_type": "markdown",
   "metadata": {},
   "source": [
    "Point estimates are often accompanied by measures of uncertainty, such as standard errors or confidence intervals, which quantify the precision of the estimate and provide a range of plausible values for the population parameter.\n"
   ]
  },
  {
   "cell_type": "markdown",
   "metadata": {},
   "source": [
    "Understanding probability and statistics in the frequentist paradigm is crucial for students learning about machine learning. Many traditional statistical methods used in data analysis and model evaluation, such as hypothesis testing and confidence intervals, are based on the frequentist approach. Familiarity with these concepts will help students build a strong foundation for understanding and applying machine learning techniques."
   ]
  },
  {
   "cell_type": "markdown",
   "metadata": {},
   "source": [
    "## <a id='toc2_'></a>[Hypothesis Testing](#toc0_)"
   ]
  },
  {
   "cell_type": "markdown",
   "metadata": {},
   "source": [
    "Hypothesis testing is a fundamental concept in the frequentist approach to statistical inference. It is a procedure for determining whether a particular hypothesis about a population parameter is supported by the evidence provided by a sample of data. Hypothesis testing allows us to make decisions and draw conclusions about population parameters based on sample data.\n"
   ]
  },
  {
   "cell_type": "markdown",
   "metadata": {},
   "source": [
    "### <a id='toc2_1_'></a>[Null and alternative hypotheses](#toc0_)\n"
   ]
  },
  {
   "cell_type": "markdown",
   "metadata": {},
   "source": [
    "In hypothesis testing, we start by defining two competing hypotheses:\n",
    "\n",
    "1. The null hypothesis ($H_0$): This hypothesis represents the default or status quo position. It usually states that there is no significant difference or effect between the groups or variables being studied.\n",
    "\n",
    "2. The alternative hypothesis ($H_1$ or $H_a$): This hypothesis represents the claim or the research question being investigated. It usually states that there is a significant difference or effect between the groups or variables being studied.\n"
   ]
  },
  {
   "cell_type": "markdown",
   "metadata": {},
   "source": [
    "The goal of hypothesis testing is to determine whether the evidence from the sample data is strong enough to reject the null hypothesis in favor of the alternative hypothesis.\n"
   ]
  },
  {
   "cell_type": "markdown",
   "metadata": {},
   "source": [
    "### <a id='toc2_2_'></a>[p-values and significance levels](#toc0_)\n"
   ]
  },
  {
   "cell_type": "markdown",
   "metadata": {},
   "source": [
    "In hypothesis testing, we use a test statistic calculated from the sample data to make a decision about the null hypothesis. The p-value is a key concept in this process:\n",
    "\n",
    "- The p-value is the probability of observing a test statistic as extreme as, or more extreme than, the one calculated from the sample data, assuming that the null hypothesis is true.\n",
    "- A smaller p-value indicates stronger evidence against the null hypothesis.\n"
   ]
  },
  {
   "cell_type": "markdown",
   "metadata": {},
   "source": [
    "To make a decision, we compare the p-value to a pre-specified significance level (denoted as $\\alpha$), which is the maximum probability of rejecting the null hypothesis when it is actually true (Type I error). Common choices for the significance level are 0.05 and 0.01.\n",
    "\n",
    "- If the p-value is less than or equal to the significance level, we reject the null hypothesis in favor of the alternative hypothesis.\n",
    "- If the p-value is greater than the significance level, we fail to reject the null hypothesis, and we do not have sufficient evidence to support the alternative hypothesis.\n"
   ]
  },
  {
   "cell_type": "markdown",
   "metadata": {},
   "source": [
    "### <a id='toc2_3_'></a>[Simple example of a hypothesis test](#toc0_)\n"
   ]
  },
  {
   "cell_type": "markdown",
   "metadata": {},
   "source": [
    "Let's consider a simple example to illustrate the concept of hypothesis testing. Suppose we want to test whether a coin is fair (i.e., the probability of getting heads is 0.5).\n",
    "\n",
    "- Null hypothesis ($H_0$): The coin is fair, and the probability of getting heads is 0.5.\n",
    "- Alternative hypothesis ($H_1$): The coin is not fair, and the probability of getting heads is not 0.5.\n"
   ]
  },
  {
   "cell_type": "markdown",
   "metadata": {
    "vscode": {
     "languageId": "plaintext"
    }
   },
   "source": [
    "We toss the coin 100 times and observe 60 heads. We can then calculate the p-value using the binomial distribution:"
   ]
  },
  {
   "cell_type": "code",
   "execution_count": 1,
   "metadata": {},
   "outputs": [
    {
     "name": "stdout",
     "output_type": "stream",
     "text": [
      "The p-value is: 0.0569\n"
     ]
    }
   ],
   "source": [
    "from scipy.stats import binom\n",
    "\n",
    "n = 100  # number of tosses\n",
    "p = 0.5  # probability of heads under the null hypothesis\n",
    "x = 60  # number of observed heads\n",
    "\n",
    "p_value = 2 * min(binom.cdf(x, n, p), 1 - binom.cdf(x - 1, n, p))\n",
    "\n",
    "print(f\"The p-value is: {p_value:.4f}\")"
   ]
  },
  {
   "cell_type": "markdown",
   "metadata": {},
   "source": [
    "If we choose a significance level of 0.05, we fail to reject the null hypothesis because the p-value (0.0569) is greater than 0.05. We do not have sufficient evidence to conclude that the coin is unfair.\n"
   ]
  },
  {
   "cell_type": "markdown",
   "metadata": {},
   "source": [
    "Hypothesis testing is a crucial concept in the frequentist approach and is widely used in various fields, including machine learning, to make decisions and draw conclusions based on sample data."
   ]
  },
  {
   "cell_type": "markdown",
   "metadata": {},
   "source": [
    "## <a id='toc3_'></a>[Limitations of the Frequentist Approach](#toc0_)"
   ]
  },
  {
   "cell_type": "markdown",
   "metadata": {},
   "source": [
    "While the frequentist approach has been widely used in statistics and machine learning, it has some limitations that are important to consider. These limitations have led to the development and adoption of alternative approaches, such as the Bayesian approach. Let's discuss some of the main limitations of the frequentist approach.\n"
   ]
  },
  {
   "cell_type": "markdown",
   "metadata": {},
   "source": [
    "### <a id='toc3_1_'></a>[Dependence on sampling distributions](#toc0_)\n"
   ]
  },
  {
   "cell_type": "markdown",
   "metadata": {},
   "source": [
    "One of the major limitations of the frequentist approach is its reliance on sampling distributions. In frequentist inference, the properties of estimators and hypothesis tests are derived based on the sampling distribution of the test statistic under repeated sampling from the population.\n"
   ]
  },
  {
   "cell_type": "markdown",
   "metadata": {},
   "source": [
    "However, in many real-world situations, the assumptions underlying these sampling distributions may not hold, or the sample size may be too small to rely on asymptotic properties. In such cases, the results obtained from frequentist methods may be unreliable or misleading.\n"
   ]
  },
  {
   "cell_type": "markdown",
   "metadata": {},
   "source": [
    "Moreover, the construction of sampling distributions often requires complex mathematical derivations or simulations, which can be challenging for students and practitioners to understand and implement.\n"
   ]
  },
  {
   "cell_type": "markdown",
   "metadata": {},
   "source": [
    "### <a id='toc3_2_'></a>[Difficulty in incorporating prior knowledge](#toc0_)\n"
   ]
  },
  {
   "cell_type": "markdown",
   "metadata": {},
   "source": [
    "Another limitation of the frequentist approach is its difficulty in incorporating prior knowledge or expert opinion into the analysis. In the frequentist paradigm, probability is defined as the long-run frequency of events, and the focus is on the data at hand.\n"
   ]
  },
  {
   "cell_type": "markdown",
   "metadata": {},
   "source": [
    "This makes it challenging to incorporate prior information that may be available about the problem or the parameters of interest. In some cases, prior knowledge can provide valuable insights and improve the accuracy and efficiency of the analysis, but the frequentist approach does not provide a natural way to integrate this information.\n"
   ]
  },
  {
   "cell_type": "markdown",
   "metadata": {},
   "source": [
    "In contrast, the Bayesian approach explicitly incorporates prior knowledge through the specification of prior distributions, which can be updated with observed data to obtain posterior distributions that reflect both the prior information and the evidence from the data.\n"
   ]
  },
  {
   "cell_type": "markdown",
   "metadata": {},
   "source": [
    "### <a id='toc3_3_'></a>[Interpretation of results](#toc0_)\n"
   ]
  },
  {
   "cell_type": "markdown",
   "metadata": {},
   "source": [
    "The interpretation of results in the frequentist approach can be challenging and often leads to misunderstandings. For example, a common misconception is that a p-value represents the probability that the null hypothesis is true, given the observed data. However, this is not the correct interpretation.\n"
   ]
  },
  {
   "cell_type": "markdown",
   "metadata": {},
   "source": [
    "In the frequentist approach, a p-value represents the probability of observing a test statistic as extreme as or more extreme than the one observed, assuming that the null hypothesis is true. It does not provide information about the probability of the null hypothesis being true or false.\n"
   ]
  },
  {
   "cell_type": "markdown",
   "metadata": {},
   "source": [
    "Similarly, confidence intervals in the frequentist approach are often misinterpreted as probability statements about the parameter of interest. A 95% confidence interval does not mean that there is a 95% probability that the true parameter value lies within the interval. Instead, it means that if the sampling procedure were repeated many times, 95% of the resulting confidence intervals would contain the true parameter value.\n"
   ]
  },
  {
   "cell_type": "markdown",
   "metadata": {},
   "source": [
    "These misinterpretations can lead to incorrect conclusions and decision-making in machine learning and other applications.\n"
   ]
  },
  {
   "cell_type": "markdown",
   "metadata": {},
   "source": [
    "Understanding the limitations of the frequentist approach is essential for students learning about machine learning. It helps them appreciate the motivation behind alternative approaches, such as the Bayesian approach, and provides a more complete picture of the statistical foundations of machine learning. By being aware of these limitations, students can make informed decisions about when to use frequentist methods and when to consider alternative approaches."
   ]
  },
  {
   "cell_type": "markdown",
   "metadata": {},
   "source": [
    "## <a id='toc4_'></a>[Summary](#toc0_)"
   ]
  },
  {
   "cell_type": "markdown",
   "metadata": {},
   "source": [
    "In this lecture, we introduced the frequentist approach to probability and statistics, which is a fundamental paradigm in machine learning and data analysis. Let's recap the key points covered in this lecture and discuss the importance of understanding the frequentist approach.\n"
   ]
  },
  {
   "cell_type": "markdown",
   "metadata": {},
   "source": [
    "### <a id='toc4_1_'></a>[Recap of key points](#toc0_)\n"
   ]
  },
  {
   "cell_type": "markdown",
   "metadata": {},
   "source": [
    "1. The frequentist approach defines probability as the long-run relative frequency of events in repeated trials.\n",
    "2. In the frequentist paradigm, probability is objective and based on empirical evidence, rather than subjective belief or uncertainty.\n",
    "3. The goal of frequentist inference is to use sample data to estimate population parameters and quantify the uncertainty associated with these estimates.\n",
    "4. Probability and statistics are closely interconnected in the frequentist approach, with concepts such as sampling distributions, point estimation, and hypothesis testing playing a central role.\n",
    "5. The frequentist approach has some limitations, including dependence on sampling distributions, difficulty in incorporating prior knowledge, and potential misinterpretation of results.\n"
   ]
  },
  {
   "cell_type": "markdown",
   "metadata": {},
   "source": [
    "### <a id='toc4_2_'></a>[Importance of understanding the frequentist approach](#toc0_)\n"
   ]
  },
  {
   "cell_type": "markdown",
   "metadata": {},
   "source": [
    "Understanding the frequentist approach is crucial for students learning about machine learning for several reasons:\n",
    "\n",
    "1. Many traditional statistical methods used in machine learning, such as hypothesis testing, confidence intervals, and maximum likelihood estimation, are based on the frequentist approach.\n",
    "2. Familiarity with the frequentist approach provides a solid foundation for understanding the statistical concepts and techniques used in data analysis and model evaluation.\n",
    "3. Recognizing the limitations of the frequentist approach helps students appreciate the motivation behind alternative approaches, such as the Bayesian approach, and make informed decisions about when to use each approach.\n",
    "4. Understanding the differences between the frequentist and Bayesian approaches enables students to critically evaluate the assumptions and interpretations of different machine learning methods and choose the most appropriate approach for a given problem.\n"
   ]
  },
  {
   "cell_type": "markdown",
   "metadata": {},
   "source": [
    "### <a id='toc4_3_'></a>[Setting the stage for the Bayesian approach](#toc0_)\n"
   ]
  },
  {
   "cell_type": "markdown",
   "metadata": {},
   "source": [
    "While the frequentist approach has been the dominant paradigm in statistics and machine learning for many years, the Bayesian approach has gained increasing popularity in recent decades. The Bayesian approach offers a different perspective on probability and inference, with some advantages over the frequentist approach.\n"
   ]
  },
  {
   "cell_type": "markdown",
   "metadata": {},
   "source": [
    "In the next lecture, we will dive into the Bayesian approach, focusing on Bayes' theorem and its applications in machine learning. We will explore how the Bayesian approach incorporates prior knowledge, updates beliefs based on observed data, and provides a more intuitive and flexible framework for reasoning under uncertainty.\n"
   ]
  },
  {
   "cell_type": "markdown",
   "metadata": {},
   "source": [
    "By understanding both the frequentist and Bayesian approaches, students will be well-equipped to tackle a wide range of machine learning problems and make informed decisions about which approach to use in different situations.\n"
   ]
  },
  {
   "cell_type": "markdown",
   "metadata": {},
   "source": [
    "In conclusion, the frequentist approach is a fundamental paradigm in machine learning and statistics, and understanding its principles, strengths, and limitations is essential for students. With this foundation in place, we are now ready to explore the Bayesian approach and discover how it complements and extends the frequentist perspective in the context of machine learning."
   ]
  }
 ],
 "metadata": {
  "kernelspec": {
   "display_name": "py310",
   "language": "python",
   "name": "python3"
  },
  "language_info": {
   "codemirror_mode": {
    "name": "ipython",
    "version": 3
   },
   "file_extension": ".py",
   "mimetype": "text/x-python",
   "name": "python",
   "nbconvert_exporter": "python",
   "pygments_lexer": "ipython3",
   "version": "3.10.12"
  }
 },
 "nbformat": 4,
 "nbformat_minor": 2
}
