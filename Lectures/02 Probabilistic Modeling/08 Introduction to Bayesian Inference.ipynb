{
 "cells": [
  {
   "cell_type": "markdown",
   "metadata": {},
   "source": [
    "<img src=\"./images/banner.png\" width=\"800\">"
   ]
  },
  {
   "cell_type": "markdown",
   "metadata": {},
   "source": [
    "# Introduction to Bayesian Inference"
   ]
  },
  {
   "cell_type": "markdown",
   "metadata": {},
   "source": [
    "Bayesian inference is a statistical approach to estimating unknown quantities and making predictions based on observed data. It combines prior knowledge or beliefs about the quantities of interest with the likelihood of the observed data to update the beliefs and obtain a posterior distribution.\n"
   ]
  },
  {
   "cell_type": "markdown",
   "metadata": {},
   "source": [
    "There are two main schools of thought in statistical inference: Bayesian and Frequentist.\n",
    "\n",
    "- **Frequentist approach**: The frequentist approach treats unknown quantities as fixed parameters and relies on the concept of repeated sampling. It uses point estimates, confidence intervals, and p-values to make inferences about the parameters. Frequentists consider probability as the long-run frequency of events in repeated trials.\n",
    "\n",
    "- **Bayesian approach**: The Bayesian approach treats unknown quantities as random variables and assigns probability distributions to them. It incorporates prior knowledge or beliefs about the parameters and updates them based on the observed data using Bayes' theorem. Bayesians consider probability as a measure of uncertainty or degree of belief.\n",
    "\n",
    "The main difference between the two approaches lies in their interpretation of probability and how they incorporate prior information.\n"
   ]
  },
  {
   "cell_type": "markdown",
   "metadata": {},
   "source": [
    "Bayesian inference can be summarized in three main steps:\n",
    "\n",
    "1. **Specify a prior distribution**: Begin by specifying a prior distribution over the unknown quantities of interest. The prior distribution represents your initial beliefs or knowledge about the parameters before observing any data.\n",
    "\n",
    "2. **Calculate the likelihood**: Given the observed data, calculate the likelihood of the data under different values of the parameters. The likelihood quantifies how well the data fits the model for different parameter values.\n",
    "\n",
    "3. **Compute the posterior distribution**: Use Bayes' theorem to combine the prior distribution and the likelihood, yielding the posterior distribution. The posterior distribution represents your updated beliefs about the parameters after taking the data into account.\n"
   ]
  },
  {
   "cell_type": "markdown",
   "metadata": {},
   "source": [
    "Mathematically, Bayes' theorem states:\n",
    "\n",
    "$P(\\theta | X) = \\frac{P(X | \\theta) P(\\theta)}{P(X)}$\n",
    "\n",
    "where:\n",
    "- $\\theta$ represents the unknown parameters\n",
    "- $X$ represents the observed data\n",
    "- $P(\\theta | X)$ is the posterior distribution\n",
    "- $P(X | \\theta)$ is the likelihood\n",
    "- $P(\\theta)$ is the prior distribution\n",
    "- $P(X)$ is the marginal likelihood or evidence\n"
   ]
  },
  {
   "cell_type": "markdown",
   "metadata": {},
   "source": [
    "The posterior distribution provides a complete description of the uncertainty about the parameters given the observed data. It can be used to make point estimates, compute credible intervals, and make predictions for new data points.\n"
   ]
  },
  {
   "cell_type": "markdown",
   "metadata": {},
   "source": [
    "By incorporating prior knowledge and updating beliefs based on observed data, Bayesian inference provides a principled way to reason about uncertainty and make informed decisions in the presence of limited data.\n"
   ]
  },
  {
   "cell_type": "markdown",
   "metadata": {},
   "source": [
    "In the previous lecture on Bayes' Theorem, we covered the fundamental concepts and derivation of Bayes' theorem, along with examples and an introduction to Bayesian inference. Building upon that foundation, this lecture will delve deeper into the principles and applications of Bayesian inference in machine learning."
   ]
  },
  {
   "cell_type": "markdown",
   "metadata": {},
   "source": [
    "**Table of contents**<a id='toc0_'></a>    \n",
    "- [Prior, Likelihood, and Posterior](#toc1_)    \n",
    "  - [Prior distribution](#toc1_1_)    \n",
    "  - [Likelihood function](#toc1_2_)    \n",
    "  - [Posterior distribution](#toc1_3_)    \n",
    "  - [Updating beliefs with new evidence](#toc1_4_)    \n",
    "- [Bayesian Inference in Machine Learning](#toc2_)    \n",
    "  - [Bayesian parameter estimation](#toc2_1_)    \n",
    "  - [Bayesian model selection](#toc2_2_)    \n",
    "  - [Bayesian decision theory](#toc2_3_)    \n",
    "- [Bayesian Inference in Machine Learning](#toc3_)    \n",
    "  - [Bayesian parameter estimation](#toc3_1_)    \n",
    "  - [Bayesian model selection](#toc3_2_)    \n",
    "  - [Bayesian decision theory](#toc3_3_)    \n",
    "- [Advantages and Limitations of Bayesian Inference](#toc4_)    \n",
    "  - [Advantages of Bayesian inference](#toc4_1_)    \n",
    "  - [Limitations and challenges](#toc4_2_)    \n",
    "  - [When to use Bayesian inference](#toc4_3_)    \n",
    "- [Summary](#toc5_)    \n",
    "  - [Recap of key points](#toc5_1_)    \n",
    "  - [Importance of Bayesian inference in machine learning](#toc5_2_)    \n",
    "\n",
    "<!-- vscode-jupyter-toc-config\n",
    "\tnumbering=false\n",
    "\tanchor=true\n",
    "\tflat=false\n",
    "\tminLevel=2\n",
    "\tmaxLevel=6\n",
    "\t/vscode-jupyter-toc-config -->\n",
    "<!-- THIS CELL WILL BE REPLACED ON TOC UPDATE. DO NOT WRITE YOUR TEXT IN THIS CELL -->"
   ]
  },
  {
   "cell_type": "markdown",
   "metadata": {},
   "source": [
    "## <a id='toc1_'></a>[Prior, Likelihood, and Posterior](#toc0_)"
   ]
  },
  {
   "cell_type": "markdown",
   "metadata": {},
   "source": [
    "In Bayesian inference, the prior distribution, likelihood function, and posterior distribution are the three key components that work together to update our beliefs about unknown quantities based on observed data.\n"
   ]
  },
  {
   "cell_type": "markdown",
   "metadata": {},
   "source": [
    "### <a id='toc1_1_'></a>[Prior distribution](#toc0_)\n"
   ]
  },
  {
   "cell_type": "markdown",
   "metadata": {},
   "source": [
    "The prior distribution, denoted as $P(\\theta)$, represents our initial beliefs or knowledge about the unknown parameters $\\theta$ before observing any data. It encodes our prior assumptions, domain knowledge, or previous experiences. The choice of prior distribution depends on the problem context and available information.\n"
   ]
  },
  {
   "cell_type": "markdown",
   "metadata": {},
   "source": [
    "There are different types of prior distributions:\n",
    "\n",
    "- **Informative priors**: Informative priors express specific, strong beliefs about the parameters based on prior knowledge or expertise. They have a significant impact on the posterior distribution.\n",
    "\n",
    "- **Weakly informative priors**: Weakly informative priors provide some information about the parameters but are not as strong as informative priors. They can help stabilize the posterior distribution while still allowing the data to dominate the inference.\n",
    "\n",
    "- **Non-informative or flat priors**: Non-informative priors, also known as flat or uniform priors, assign equal probabilities to all possible values of the parameters. They represent a lack of prior knowledge or a desire to let the data speak for itself.\n"
   ]
  },
  {
   "cell_type": "markdown",
   "metadata": {},
   "source": [
    "The choice of prior distribution should be carefully considered, as it can have a substantial impact on the posterior inference, especially when the sample size is small.\n"
   ]
  },
  {
   "cell_type": "markdown",
   "metadata": {},
   "source": [
    "### <a id='toc1_2_'></a>[Likelihood function](#toc0_)\n"
   ]
  },
  {
   "cell_type": "markdown",
   "metadata": {},
   "source": [
    "The likelihood function, denoted as $P(X|\\theta)$, quantifies the probability of observing the data $X$ given the parameters $\\theta$. It measures how well the model, specified by the parameters, fits the observed data.\n"
   ]
  },
  {
   "cell_type": "markdown",
   "metadata": {},
   "source": [
    "The likelihood function is derived from the assumed probability distribution of the data. For example, if we assume that the data follows a Gaussian distribution with mean $\\mu$ and standard deviation $\\sigma$, the likelihood function for a single data point $x_i$ would be:\n",
    "\n",
    "$P(x_i|\\mu, \\sigma) = \\frac{1}{\\sqrt{2\\pi\\sigma^2}} \\exp\\left(-\\frac{(x_i - \\mu)^2}{2\\sigma^2}\\right)$\n"
   ]
  },
  {
   "cell_type": "markdown",
   "metadata": {},
   "source": [
    "For a dataset $X = \\{x_1, x_2, \\ldots, x_n\\}$, the likelihood function is the product of the individual likelihoods, assuming the data points are independently and identically distributed (i.i.d.):\n",
    "\n",
    "$P(X|\\mu, \\sigma) = \\prod_{i=1}^n P(x_i|\\mu, \\sigma)$\n"
   ]
  },
  {
   "cell_type": "markdown",
   "metadata": {},
   "source": [
    "The likelihood function plays a crucial role in Bayesian inference, as it quantifies the evidence provided by the data in support of different parameter values.\n"
   ]
  },
  {
   "cell_type": "markdown",
   "metadata": {},
   "source": [
    "### <a id='toc1_3_'></a>[Posterior distribution](#toc0_)\n"
   ]
  },
  {
   "cell_type": "markdown",
   "metadata": {},
   "source": [
    "The posterior distribution, denoted as $P(\\theta|X)$, represents our updated beliefs about the parameters $\\theta$ after observing the data $X$. It combines the prior distribution and the likelihood function using Bayes' theorem:\n",
    "\n",
    "$P(\\theta|X) = \\frac{P(X|\\theta)P(\\theta)}{P(X)}$\n"
   ]
  },
  {
   "cell_type": "markdown",
   "metadata": {},
   "source": [
    "The posterior distribution provides a complete description of the uncertainty about the parameters given the observed data. It allows us to make probabilistic statements, compute point estimates (e.g., posterior mean or mode), and construct credible intervals.\n"
   ]
  },
  {
   "cell_type": "markdown",
   "metadata": {},
   "source": [
    "### <a id='toc1_4_'></a>[Updating beliefs with new evidence](#toc0_)\n"
   ]
  },
  {
   "cell_type": "markdown",
   "metadata": {},
   "source": [
    "One of the key strengths of Bayesian inference is its ability to update beliefs as new evidence becomes available. When we obtain new data, we can use the posterior distribution from the previous analysis as the new prior distribution and combine it with the likelihood of the new data to obtain an updated posterior distribution.\n"
   ]
  },
  {
   "cell_type": "markdown",
   "metadata": {},
   "source": [
    "This iterative process of updating beliefs based on new evidence is known as Bayesian updating or Bayesian learning. It allows us to continuously refine our knowledge and make more accurate predictions as more data is collected.\n"
   ]
  },
  {
   "cell_type": "markdown",
   "metadata": {},
   "source": [
    "Here's a simple example of Bayesian updating using Python:\n"
   ]
  },
  {
   "cell_type": "code",
   "execution_count": 1,
   "metadata": {},
   "outputs": [
    {
     "data": {
      "image/png": "[encoded data removed]",
      "text/plain": [
       "<Figure size 640x480 with 1 Axes>"
      ]
     },
     "metadata": {},
     "output_type": "display_data"
    }
   ],
   "source": [
    "import numpy as np\n",
    "from scipy.stats import beta\n",
    "\n",
    "# Prior distribution\n",
    "prior_alpha = 2\n",
    "prior_beta = 3\n",
    "\n",
    "# Observed data\n",
    "data = [1, 0, 1, 1, 0]\n",
    "\n",
    "# Update beliefs with new evidence\n",
    "posterior_alpha = prior_alpha + sum(data)\n",
    "posterior_beta = prior_beta + len(data) - sum(data)\n",
    "\n",
    "# Plot prior and posterior distributions\n",
    "x = np.linspace(0, 1, 100)\n",
    "prior_pdf = beta.pdf(x, prior_alpha, prior_beta)\n",
    "posterior_pdf = beta.pdf(x, posterior_alpha, posterior_beta)\n",
    "\n",
    "import matplotlib.pyplot as plt\n",
    "plt.plot(x, prior_pdf, label='Prior')\n",
    "plt.plot(x, posterior_pdf, label='Posterior')\n",
    "plt.legend()\n",
    "plt.xlabel('Parameter')\n",
    "plt.ylabel('Density')\n",
    "plt.show()"
   ]
  },
  {
   "cell_type": "markdown",
   "metadata": {},
   "source": [
    "In this example, we start with a Beta prior distribution (suitable for modeling probabilities) with parameters `prior_alpha` and `prior_beta`. We observe some binary data (0s and 1s) and update our beliefs by computing the posterior parameters `posterior_alpha` and `posterior_beta`. The plot shows how the posterior distribution shifts based on the observed data.\n"
   ]
  },
  {
   "cell_type": "markdown",
   "metadata": {},
   "source": [
    "By understanding the interplay between the prior distribution, likelihood function, and posterior distribution, we can leverage Bayesian inference to make informed decisions and update our beliefs in the presence of new evidence."
   ]
  },
  {
   "cell_type": "markdown",
   "metadata": {},
   "source": [
    "## <a id='toc2_'></a>[Bayesian Inference in Machine Learning](#toc0_)"
   ]
  },
  {
   "cell_type": "markdown",
   "metadata": {},
   "source": [
    "Bayesian inference has found numerous applications in machine learning, providing a principled framework for parameter estimation, model selection, and decision making under uncertainty. Let's explore some key areas where Bayesian inference is applied in machine learning.\n"
   ]
  },
  {
   "cell_type": "markdown",
   "metadata": {},
   "source": [
    "### <a id='toc2_1_'></a>[Bayesian parameter estimation](#toc0_)\n"
   ]
  },
  {
   "cell_type": "markdown",
   "metadata": {},
   "source": [
    "Bayesian parameter estimation is the process of inferring the posterior distribution of model parameters given the observed data. Instead of obtaining point estimates, as in maximum likelihood estimation (MLE), Bayesian estimation provides a full probability distribution over the parameters.\n"
   ]
  },
  {
   "cell_type": "markdown",
   "metadata": {},
   "source": [
    "In Bayesian parameter estimation, we start with a prior distribution over the parameters, $P(\\theta)$, which represents our initial beliefs. We then update the prior distribution using the likelihood of the observed data, $P(X|\\theta)$, to obtain the posterior distribution, $P(\\theta|X)$, using Bayes' theorem:\n",
    "\n",
    "$P(\\theta|X) = \\frac{P(X|\\theta)P(\\theta)}{P(X)}$\n"
   ]
  },
  {
   "cell_type": "markdown",
   "metadata": {},
   "source": [
    "The posterior distribution captures the uncertainty in the parameter estimates and allows us to make probabilistic statements about the parameters.\n"
   ]
  },
  {
   "cell_type": "markdown",
   "metadata": {},
   "source": [
    "For example, in a linear regression problem with Gaussian noise, we can place a Gaussian prior on the regression coefficients and use Bayesian inference to obtain the posterior distribution of the coefficients given the observed data. This posterior distribution provides a measure of uncertainty in the coefficient estimates.\n"
   ]
  },
  {
   "cell_type": "markdown",
   "metadata": {},
   "source": [
    "### <a id='toc2_2_'></a>[Bayesian model selection](#toc0_)\n"
   ]
  },
  {
   "cell_type": "markdown",
   "metadata": {},
   "source": [
    "Bayesian model selection is the task of choosing the best model from a set of candidate models based on their posterior probabilities. It allows us to compare and select models while accounting for model complexity and the trade-off between model fit and parsimony.\n"
   ]
  },
  {
   "cell_type": "markdown",
   "metadata": {},
   "source": [
    "In Bayesian model selection, we assign prior probabilities to each candidate model, $P(M_i)$, representing our initial beliefs about their plausibility. We then compute the posterior probability of each model given the observed data, $P(M_i|X)$, using Bayes' theorem:\n",
    "\n",
    "$P(M_i|X) = \\frac{P(X|M_i)P(M_i)}{P(X)}$\n"
   ]
  },
  {
   "cell_type": "markdown",
   "metadata": {},
   "source": [
    "The marginal likelihood, $P(X|M_i)$, also known as the evidence, plays a crucial role in Bayesian model selection. It quantifies the probability of the observed data under each model, while automatically penalizing complex models that overfit the data.\n"
   ]
  },
  {
   "cell_type": "markdown",
   "metadata": {},
   "source": [
    "The model with the highest posterior probability is selected as the best model. Bayesian model selection provides a principled way to balance model complexity and goodness of fit, avoiding overfitting and favoring simpler models when justified by the data.\n"
   ]
  },
  {
   "cell_type": "markdown",
   "metadata": {},
   "source": [
    "### <a id='toc2_3_'></a>[Bayesian decision theory](#toc0_)\n"
   ]
  },
  {
   "cell_type": "markdown",
   "metadata": {},
   "source": [
    "Bayesian decision theory is a framework for making optimal decisions under uncertainty by combining Bayesian inference with decision theory. It involves defining a loss function or utility function that quantifies the consequences of different actions or decisions, and then choosing the action that minimizes the expected loss or maximizes the expected utility.\n"
   ]
  },
  {
   "cell_type": "markdown",
   "metadata": {},
   "source": [
    "In the context of machine learning, Bayesian decision theory can be applied to various tasks, such as classification, regression, and ranking. For example, in binary classification, we can define a loss function that penalizes misclassifications differently for each class. By combining the posterior probabilities of the classes with the loss function, we can make optimal class predictions that minimize the expected loss.\n"
   ]
  },
  {
   "cell_type": "markdown",
   "metadata": {},
   "source": [
    "Bayesian decision theory provides a framework for incorporating domain knowledge, costs, and benefits into the decision-making process. It allows us to make informed decisions based on the posterior probabilities and the associated consequences.\n"
   ]
  },
  {
   "cell_type": "markdown",
   "metadata": {},
   "source": [
    "Here's a simple example of Bayesian parameter estimation using Python:\n"
   ]
  },
  {
   "cell_type": "code",
   "execution_count": 2,
   "metadata": {},
   "outputs": [
    {
     "name": "stdout",
     "output_type": "stream",
     "text": [
      "Posterior mean: 2.04\n",
      "Posterior standard deviation: 0.10\n"
     ]
    }
   ],
   "source": [
    "import numpy as np\n",
    "from scipy.stats import norm\n",
    "\n",
    "# Generate observed data\n",
    "np.random.seed(0)\n",
    "X = np.random.normal(loc=2, scale=1, size=100)\n",
    "\n",
    "# Prior distribution\n",
    "prior_mean = 0\n",
    "prior_std = 1\n",
    "\n",
    "# Likelihood function\n",
    "likelihood_std = 1\n",
    "\n",
    "# Compute posterior distribution\n",
    "posterior_mean = (prior_mean / prior_std**2 + np.sum(X) / likelihood_std**2) / (1 / prior_std**2 + len(X) / likelihood_std**2)\n",
    "posterior_std = np.sqrt(1 / (1 / prior_std**2 + len(X) / likelihood_std**2))\n",
    "\n",
    "print(f\"Posterior mean: {posterior_mean:.2f}\")\n",
    "print(f\"Posterior standard deviation: {posterior_std:.2f}\")"
   ]
  },
  {
   "cell_type": "markdown",
   "metadata": {},
   "source": [
    "In this example, we generate observed data from a Gaussian distribution with a true mean of 2. We specify a Gaussian prior distribution for the mean parameter and assume a known likelihood standard deviation. Using Bayesian inference, we compute the posterior distribution of the mean parameter, which combines the prior information with the observed data. The posterior distribution provides an updated estimate of the mean parameter along with its uncertainty.\n"
   ]
  },
  {
   "cell_type": "markdown",
   "metadata": {},
   "source": [
    "Bayesian inference in machine learning offers a principled way to incorporate prior knowledge, quantify uncertainty, and make informed decisions. It provides a framework for parameter estimation, model selection, and decision making that goes beyond point estimates and allows for a more comprehensive understanding of the underlying uncertainties in the learning process."
   ]
  },
  {
   "cell_type": "markdown",
   "metadata": {},
   "source": [
    "## <a id='toc3_'></a>[Bayesian Inference in Machine Learning](#toc0_)"
   ]
  },
  {
   "cell_type": "markdown",
   "metadata": {},
   "source": [
    "Bayesian inference has found numerous applications in machine learning, providing a principled framework for parameter estimation, model selection, and decision making under uncertainty. Let's explore some key areas where Bayesian inference is applied in machine learning.\n"
   ]
  },
  {
   "cell_type": "markdown",
   "metadata": {},
   "source": [
    "### <a id='toc3_1_'></a>[Bayesian parameter estimation](#toc0_)\n"
   ]
  },
  {
   "cell_type": "markdown",
   "metadata": {},
   "source": [
    "Let's consider a simple example of estimating the bias of a coin. Suppose we have a coin that we suspect might be biased towards heads. We perform 10 coin flips and observe 7 heads and 3 tails. We want to estimate the bias of the coin using Bayesian inference.\n"
   ]
  },
  {
   "cell_type": "markdown",
   "metadata": {},
   "source": [
    "We can model the problem using a Binomial likelihood and a Beta prior distribution for the bias parameter $\\theta$. The Beta distribution is a convenient choice because it is conjugate to the Binomial likelihood, meaning that the posterior distribution will also be a Beta distribution.\n"
   ]
  },
  {
   "cell_type": "markdown",
   "metadata": {},
   "source": [
    "- Prior distribution: $\\theta \\sim \\text{Beta}(a=2, b=2)$\n",
    "- Likelihood function: $P(X|\\theta) = \\binom{10}{7} \\theta^7 (1-\\theta)^3$\n",
    "- Posterior distribution: $P(\\theta|X) \\propto P(X|\\theta)P(\\theta)$\n"
   ]
  },
  {
   "cell_type": "markdown",
   "metadata": {},
   "source": [
    "Using the properties of the Beta distribution, we can compute the posterior parameters:\n"
   ]
  },
  {
   "cell_type": "markdown",
   "metadata": {},
   "source": [
    "Posterior parameters: $a_{posterior} = a_{prior} + 7 = 9$, $b_{posterior} = b_{prior} + 3 = 5$\n"
   ]
  },
  {
   "cell_type": "markdown",
   "metadata": {},
   "source": [
    "The posterior distribution for the bias parameter is $\\text{Beta}(9, 5)$. We can summarize the posterior distribution by its mean and credible interval:\n"
   ]
  },
  {
   "cell_type": "markdown",
   "metadata": {},
   "source": [
    "Posterior mean: $\\mathbb{E}[\\theta|X] = \\frac{a_{posterior}}{a_{posterior} + b_{posterior}} = \\frac{9}{14} \\approx 0.64$\n",
    "95% credible interval: $[\\theta_{0.025}, \\theta_{0.975}] \\approx [0.41, 0.84]$\n"
   ]
  },
  {
   "cell_type": "markdown",
   "metadata": {},
   "source": [
    "The posterior mean suggests that the coin has a bias towards heads, with an estimated probability of heads of 0.64. The 95% credible interval indicates the range of plausible values for the bias parameter given the observed data.\n"
   ]
  },
  {
   "cell_type": "markdown",
   "metadata": {},
   "source": [
    "### <a id='toc3_2_'></a>[Bayesian model selection](#toc0_)\n"
   ]
  },
  {
   "cell_type": "markdown",
   "metadata": {},
   "source": [
    "Let's consider a simple example of selecting between two models for a regression problem. We have a dataset of 20 observations, and we want to choose between a linear model and a quadratic model to fit the data.\n"
   ]
  },
  {
   "cell_type": "markdown",
   "metadata": {},
   "source": [
    "- Model 1 (Linear): $y = \\beta_0 + \\beta_1 x + \\epsilon$\n",
    "- Model 2 (Quadratic): $y = \\beta_0 + \\beta_1 x + \\beta_2 x^2 + \\epsilon$\n"
   ]
  },
  {
   "cell_type": "markdown",
   "metadata": {},
   "source": [
    "We assign equal prior probabilities to both models: $P(M_1) = P(M_2) = 0.5$.\n"
   ]
  },
  {
   "cell_type": "markdown",
   "metadata": {},
   "source": [
    "We compute the marginal likelihood for each model by integrating over the parameter space:\n",
    "\n",
    "$P(X|M_1) = \\int P(X|\\beta_0, \\beta_1, M_1)P(\\beta_0, \\beta_1|M_1) d\\beta_0 d\\beta_1$\n",
    "$P(X|M_2) = \\int P(X|\\beta_0, \\beta_1, \\beta_2, M_2)P(\\beta_0, \\beta_1, \\beta_2|M_2) d\\beta_0 d\\beta_1 d\\beta_2$\n"
   ]
  },
  {
   "cell_type": "markdown",
   "metadata": {},
   "source": [
    "Suppose we obtain the following marginal likelihoods: $P(X|M_1) = 0.2$ and $P(X|M_2) = 0.1$.\n"
   ]
  },
  {
   "cell_type": "markdown",
   "metadata": {},
   "source": [
    "Using Bayes' theorem, we compute the posterior probabilities of each model:\n",
    "\n",
    "$P(M_1|X) = \\frac{P(X|M_1)P(M_1)}{P(X|M_1)P(M_1) + P(X|M_2)P(M_2)} = \\frac{0.2 \\times 0.5}{0.2 \\times 0.5 + 0.1 \\times 0.5} \\approx 0.67$\n",
    "$P(M_2|X) = 1 - P(M_1|X) \\approx 0.33$\n"
   ]
  },
  {
   "cell_type": "markdown",
   "metadata": {},
   "source": [
    "The posterior probabilities suggest that the linear model (Model 1) is more likely given the observed data, with a probability of 0.67 compared to 0.33 for the quadratic model (Model 2). We would select the linear model as the preferred model based on the Bayesian model selection approach.\n"
   ]
  },
  {
   "cell_type": "markdown",
   "metadata": {},
   "source": [
    "### <a id='toc3_3_'></a>[Bayesian decision theory](#toc0_)\n"
   ]
  },
  {
   "cell_type": "markdown",
   "metadata": {},
   "source": [
    "Let's consider a medical diagnosis example to illustrate Bayesian decision theory. Suppose a patient undergoes a medical test for a certain disease. The test has a false positive rate of 5% (i.e., the probability of testing positive given that the patient does not have the disease) and a false negative rate of 10% (i.e., the probability of testing negative given that the patient has the disease). The prevalence of the disease in the population is known to be 1%.\n"
   ]
  },
  {
   "cell_type": "markdown",
   "metadata": {},
   "source": [
    "We define the following decision problem:\n",
    "- The patient can either have the disease (D) or not have the disease (~D).\n",
    "- The possible actions are to treat the patient (T) or not treat the patient (~T).\n",
    "- The loss function is defined as follows:\n",
    "  - Correct decisions (true positive and true negative) have a loss of 0.\n",
    "  - False positive (treating a healthy patient) has a loss of 10.\n",
    "  - False negative (not treating a diseased patient) has a loss of 100.\n"
   ]
  },
  {
   "cell_type": "markdown",
   "metadata": {},
   "source": [
    "We can use Bayesian decision theory to determine the optimal action based on the test result. Let's assume the patient tests positive.\n"
   ]
  },
  {
   "cell_type": "markdown",
   "metadata": {},
   "source": [
    "First, we compute the posterior probability of the patient having the disease given a positive test result using Bayes' theorem:\n",
    "\n",
    "$P(D|+) = \\frac{P(+|D)P(D)}{P(+|D)P(D) + P(+|~D)P(~D)} = \\frac{0.9 \\times 0.01}{0.9 \\times 0.01 + 0.05 \\times 0.99} \\approx 0.15$\n"
   ]
  },
  {
   "cell_type": "markdown",
   "metadata": {},
   "source": [
    "Next, we compute the expected loss for each action:\n",
    "\n",
    "Expected loss of treating (T): $L(T) = 0 \\times P(D|+) + 10 \\times P(~D|+) \\approx 8.5$\n",
    "Expected loss of not treating (~T): $L(~T) = 100 \\times P(D|+) + 0 \\times P(~D|+) \\approx 15$\n"
   ]
  },
  {
   "cell_type": "markdown",
   "metadata": {},
   "source": [
    "Since the expected loss of treating (8.5) is lower than the expected loss of not treating (15), the optimal decision based on Bayesian decision theory is to treat the patient.\n"
   ]
  },
  {
   "cell_type": "markdown",
   "metadata": {},
   "source": [
    "This example demonstrates how Bayesian decision theory combines the posterior probabilities obtained from Bayesian inference with a loss function to make optimal decisions under uncertainty.\n"
   ]
  },
  {
   "cell_type": "markdown",
   "metadata": {},
   "source": [
    "These examples aim to provide a clearer understanding of Bayesian parameter estimation, Bayesian model selection, and Bayesian decision theory in real-world scenarios. By breaking down the concepts and presenting them in a more intuitive manner, we can see how Bayesian inference can be applied to various problems in machine learning and decision making."
   ]
  },
  {
   "cell_type": "markdown",
   "metadata": {},
   "source": [
    "## <a id='toc4_'></a>[Advantages and Limitations of Bayesian Inference](#toc0_)"
   ]
  },
  {
   "cell_type": "markdown",
   "metadata": {},
   "source": [
    "Bayesian inference offers several advantages over traditional frequentist approaches, but it also comes with some limitations and challenges. Let's explore the advantages and limitations of Bayesian inference and discuss when it is appropriate to use this approach.\n"
   ]
  },
  {
   "cell_type": "markdown",
   "metadata": {},
   "source": [
    "### <a id='toc4_1_'></a>[Advantages of Bayesian inference](#toc0_)\n"
   ]
  },
  {
   "cell_type": "markdown",
   "metadata": {},
   "source": [
    "1. **Incorporation of prior knowledge**: Bayesian inference allows us to incorporate prior knowledge or beliefs about the parameters into the model. This is particularly useful when we have domain expertise or previous data that can inform our analysis. By combining prior information with the observed data, we can obtain more accurate and informative posterior distributions.\n",
    "\n",
    "2. **Quantification of uncertainty**: Bayesian inference provides a principled way to quantify uncertainty in the parameter estimates and model predictions. Instead of point estimates, we obtain full posterior distributions that capture the uncertainty associated with the parameters. This allows us to make probabilistic statements and assess the reliability of our inferences.\n",
    "\n",
    "3. **Intuitive interpretation**: Bayesian inference provides results that are intuitive and easy to interpret. The posterior distribution directly represents the probability of the parameters given the observed data. We can make straightforward probability statements, such as \"the probability that the parameter lies within a certain range is 0.95,\" which aligns with our natural way of reasoning about uncertainty.\n",
    "\n",
    "4. **Hierarchical modeling**: Bayesian inference naturally supports hierarchical modeling, where we can introduce multiple levels of uncertainty and model complex relationships between parameters. Hierarchical Bayesian models allow us to borrow strength across different groups or levels of data, leading to more robust and accurate inferences.\n",
    "\n",
    "5. **Model comparison and selection**: Bayesian inference provides a framework for model comparison and selection through the use of Bayes factors or posterior model probabilities. We can compare different models based on their ability to explain the observed data while automatically penalizing model complexity. This helps us select the most appropriate model among competing alternatives.\n"
   ]
  },
  {
   "cell_type": "markdown",
   "metadata": {},
   "source": [
    "### <a id='toc4_2_'></a>[Limitations and challenges](#toc0_)\n"
   ]
  },
  {
   "cell_type": "markdown",
   "metadata": {},
   "source": [
    "1. **Specifying prior distributions**: One of the challenges in Bayesian inference is specifying appropriate prior distributions for the parameters. The choice of prior can have a significant impact on the posterior distribution, especially when the sample size is small. Improper or poorly chosen priors can lead to biased or unreliable inferences. It is important to carefully consider the prior distribution based on available knowledge and sensitivity analysis.\n",
    "\n",
    "2. **Computational complexity**: Bayesian inference often involves complex computations, particularly when dealing with high-dimensional parameter spaces or large datasets. Calculating the posterior distribution analytically may be intractable, requiring the use of approximation techniques such as Markov Chain Monte Carlo (MCMC) methods. These methods can be computationally intensive and may require careful tuning and convergence diagnostics.\n",
    "\n",
    "3. **Convergence and mixing issues**: When using MCMC methods for Bayesian inference, ensuring convergence and proper mixing of the Markov chains can be challenging. Poor convergence or slow mixing can lead to unreliable posterior estimates. It is important to monitor convergence diagnostics and use appropriate techniques, such as thinning or multiple chains, to mitigate these issues.\n",
    "\n",
    "4. **Sensitivity to model assumptions**: Bayesian inference relies on the specified model and its assumptions. If the model is misspecified or the assumptions are violated, the resulting inferences may be misleading. It is crucial to carefully assess the validity of the model assumptions and conduct sensitivity analyses to evaluate the robustness of the conclusions.\n"
   ]
  },
  {
   "cell_type": "markdown",
   "metadata": {},
   "source": [
    "### <a id='toc4_3_'></a>[When to use Bayesian inference](#toc0_)\n"
   ]
  },
  {
   "cell_type": "markdown",
   "metadata": {},
   "source": [
    "Bayesian inference is particularly useful in the following situations:\n",
    "\n",
    "1. **Small sample sizes**: When the sample size is small, Bayesian inference can provide more reliable results by incorporating prior information. The prior distribution helps regularize the parameter estimates and prevents overfitting.\n",
    "\n",
    "2. **Complex models**: Bayesian inference is well-suited for complex models with hierarchical structures or many parameters. It allows for the incorporation of domain knowledge and provides a principled way to handle uncertainty at multiple levels.\n",
    "\n",
    "3. **Decision making under uncertainty**: Bayesian inference is valuable when making decisions under uncertainty. By combining the posterior distribution with decision theory, we can make optimal decisions based on the expected utility or loss.\n",
    "\n",
    "4. **Updating beliefs**: When new data becomes available, Bayesian inference allows us to update our beliefs by combining the prior distribution with the new likelihood. This iterative process of updating beliefs is particularly useful in online learning or adaptive systems.\n",
    "\n",
    "5. **Probabilistic reasoning**: Bayesian inference is a natural choice when probabilistic reasoning is required. It provides a coherent framework for quantifying uncertainty, making predictions, and assessing the reliability of inferences.\n"
   ]
  },
  {
   "cell_type": "markdown",
   "metadata": {},
   "source": [
    "However, it is important to note that Bayesian inference may not always be the most appropriate approach. In situations where prior information is unavailable or the computational burden is too high, frequentist methods or other alternative approaches may be more suitable.\n"
   ]
  },
  {
   "cell_type": "markdown",
   "metadata": {},
   "source": [
    "Understanding the advantages and limitations of Bayesian inference helps us make informed decisions about when to apply this powerful framework in machine learning and statistical analysis."
   ]
  },
  {
   "cell_type": "markdown",
   "metadata": {},
   "source": [
    "## <a id='toc5_'></a>[Summary](#toc0_)"
   ]
  },
  {
   "cell_type": "markdown",
   "metadata": {},
   "source": [
    "In this lecture, we explored the fundamental concepts and applications of Bayesian inference in machine learning. Bayesian inference provides a principled framework for combining prior knowledge with observed data to make probabilistic statements about unknown quantities and make informed decisions under uncertainty.\n"
   ]
  },
  {
   "cell_type": "markdown",
   "metadata": {},
   "source": [
    "### <a id='toc5_1_'></a>[Recap of key points](#toc0_)\n"
   ]
  },
  {
   "cell_type": "markdown",
   "metadata": {},
   "source": [
    "1. Bayesian inference is a statistical approach that allows us to update our beliefs about unknown quantities (parameters) based on observed data. It combines prior knowledge with the likelihood of the data to obtain a posterior distribution over the parameters.\n",
    "\n",
    "2. The key components of Bayesian inference are:\n",
    "   - Prior distribution: Represents our initial beliefs about the parameters before observing any data.\n",
    "   - Likelihood function: Quantifies the probability of observing the data given the parameters.\n",
    "   - Posterior distribution: Represents our updated beliefs about the parameters after taking into account the observed data.\n",
    "\n",
    "3. Bayes' theorem is the foundational principle of Bayesian inference. It provides a way to compute the posterior distribution by combining the prior distribution and the likelihood function.\n",
    "\n",
    "4. Bayesian inference has several advantages, including the ability to incorporate prior knowledge, quantify uncertainty, provide intuitive interpretations, support hierarchical modeling, and enable model comparison and selection.\n",
    "\n",
    "5. Bayesian inference also has some limitations and challenges, such as the need to specify appropriate prior distributions, computational complexity, convergence and mixing issues in MCMC methods, and sensitivity to model assumptions.\n",
    "\n",
    "6. Bayesian inference is particularly useful in situations with small sample sizes, complex models, decision making under uncertainty, iterative belief updating, and probabilistic reasoning.\n",
    "\n",
    "7. In machine learning, Bayesian inference is applied in various tasks, such as parameter estimation, model selection, and decision making. It provides a principled way to handle uncertainty and make informed decisions based on the available data and prior knowledge.\n"
   ]
  },
  {
   "cell_type": "markdown",
   "metadata": {},
   "source": [
    "### <a id='toc5_2_'></a>[Importance of Bayesian inference in machine learning](#toc0_)\n"
   ]
  },
  {
   "cell_type": "markdown",
   "metadata": {},
   "source": [
    "Bayesian inference plays a crucial role in machine learning due to its ability to quantify uncertainty, incorporate prior knowledge, and make principled decisions. Some key reasons why Bayesian inference is important in machine learning include:\n",
    "\n",
    "1. **Handling uncertainty**: Machine learning often involves making predictions or decisions based on limited or noisy data. Bayesian inference allows us to quantify the uncertainty associated with the model parameters and predictions, providing a more robust and reliable approach to learning.\n",
    "\n",
    "2. **Incorporating prior knowledge**: In many real-world applications, we have prior knowledge or domain expertise that can inform our models. Bayesian inference provides a natural way to incorporate this prior knowledge into the learning process, leading to more accurate and interpretable results.\n",
    "\n",
    "3. **Regularization and overfitting prevention**: Bayesian inference acts as a regularization mechanism by introducing prior distributions over the parameters. This helps prevent overfitting, especially when dealing with small sample sizes or complex models.\n",
    "\n",
    "4. **Model comparison and selection**: Bayesian inference provides a principled framework for comparing and selecting models based on their ability to explain the observed data while penalizing model complexity. This helps us choose the most appropriate model for a given task.\n",
    "\n",
    "5. **Sequential learning and adaptation**: Bayesian inference naturally supports sequential learning and adaptation. As new data becomes available, we can update our beliefs by combining the previous posterior distribution with the new likelihood, allowing for continuous learning and refinement of the model.\n",
    "\n",
    "6. **Decision making and risk assessment**: Bayesian inference allows us to make optimal decisions under uncertainty by combining the posterior distribution with decision theory. It enables us to assess risks, compute expected utilities, and make informed decisions based on the available evidence.\n"
   ]
  },
  {
   "cell_type": "markdown",
   "metadata": {},
   "source": [
    "By embracing Bayesian inference, machine learning practitioners can develop more robust, interpretable, and principled models that effectively handle uncertainty and incorporate prior knowledge. Bayesian inference provides a solid foundation for learning from data and making informed decisions in a wide range of applications.\n"
   ]
  },
  {
   "cell_type": "markdown",
   "metadata": {},
   "source": [
    "Understanding the concepts and applications of Bayesian inference is essential for anyone working in machine learning, as it offers a powerful and flexible framework for reasoning about uncertain quantities and making data-driven decisions."
   ]
  }
 ],
 "metadata": {
  "kernelspec": {
   "display_name": "py310",
   "language": "python",
   "name": "python3"
  },
  "language_info": {
   "codemirror_mode": {
    "name": "ipython",
    "version": 3
   },
   "file_extension": ".py",
   "mimetype": "text/x-python",
   "name": "python",
   "nbconvert_exporter": "python",
   "pygments_lexer": "ipython3",
   "version": "3.10.12"
  }
 },
 "nbformat": 4,
 "nbformat_minor": 2
}
